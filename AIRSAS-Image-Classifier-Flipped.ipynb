{
 "cells": [
  {
   "cell_type": "markdown",
   "metadata": {
    "id": "qq6I0rWz1SAT"
   },
   "source": [
    "This is a vision application of the AIRSAS Image Classification study for my thesis. Inputs are in the form of 875 by 656 pixel beamformed images from the AIRSAS. Outputs are the predicted letter present in the scan. The training set consists of imagery of 5,000 numbers generated from MATLAB. In this implementation, several key features will be determined from the generated input imagery to make predictions on AIRSAS imagery.\n",
    "\n",
    "NOTE: This notebook makes use of the fastai library. Run the code cell below to get the necessary files. "
   ]
  },
  {
   "cell_type": "code",
   "execution_count": null,
   "metadata": {
    "colab": {
     "base_uri": "https://localhost:8080/"
    },
    "executionInfo": {
     "elapsed": 5663,
     "status": "ok",
     "timestamp": 1616346940860,
     "user": {
      "displayName": "Raiid Ahmed",
      "photoUrl": "https://lh3.googleusercontent.com/a-/AOh14Ghc1u0ah_h_eo8PiPMeLeNY1h3c_FT-zYB_uRl5wIk=s64",
      "userId": "07563460154488898209"
     },
     "user_tz": 240
    },
    "id": "L4T08CG61TDm",
    "outputId": "34471c37-c986-4f11-c20a-346f74182f18"
   },
   "outputs": [],
   "source": [
    "!pip install fastai==2.1.10"
   ]
  },
  {
   "cell_type": "markdown",
   "metadata": {
    "id": "dzAuoGuc1SAX"
   },
   "source": [
    "Next, we will need to import all the necessary libraries for this project."
   ]
  },
  {
   "cell_type": "code",
   "execution_count": null,
   "metadata": {
    "executionInfo": {
     "elapsed": 5636,
     "status": "ok",
     "timestamp": 1616346974184,
     "user": {
      "displayName": "Raiid Ahmed",
      "photoUrl": "https://lh3.googleusercontent.com/a-/AOh14Ghc1u0ah_h_eo8PiPMeLeNY1h3c_FT-zYB_uRl5wIk=s64",
      "userId": "07563460154488898209"
     },
     "user_tz": 240
    },
    "id": "PBmAH1SH1SAX"
   },
   "outputs": [],
   "source": [
    "from fastai.vision.all import *\n",
    "import os\n",
    "import numpy as np\n",
    "import random\n",
    "import pandas as pd\n",
    "import time\n",
    "from pathlib import Path\n",
    "import zipfile as zf\n",
    "from IPython.display import Image\n",
    "from PIL import Image, ImageOps"
   ]
  },
  {
   "cell_type": "markdown",
   "metadata": {
    "id": "hS82sBvA1SAX"
   },
   "source": [
    "Next, we will allocate the testing parameters for this implementation. Epochs has been set to 100, so the learners will run for 100 epochs. The layer setup has been set to the Fast.AI default. n_classes contains the individual numbers that will be tested."
   ]
  },
  {
   "cell_type": "code",
   "execution_count": null,
   "metadata": {
    "colab": {
     "base_uri": "https://localhost:8080/"
    },
    "executionInfo": {
     "elapsed": 233,
     "status": "ok",
     "timestamp": 1616346975660,
     "user": {
      "displayName": "Raiid Ahmed",
      "photoUrl": "https://lh3.googleusercontent.com/a-/AOh14Ghc1u0ah_h_eo8PiPMeLeNY1h3c_FT-zYB_uRl5wIk=s64",
      "userId": "07563460154488898209"
     },
     "user_tz": 240
    },
    "id": "EO5nKY2p1SAY",
    "outputId": "e9a0980e-7cc8-442f-9c31-343a1e6d8c2f"
   },
   "outputs": [],
   "source": [
    "epochs = 10\n",
    "#Full n_classes = ['1','2','3','4','5','6','7','8','9','0']\n",
    "n_classes =  ['1','2','3','4','5','6','7','8','9','0']\n",
    "print('Training_' + '_'.join([str(elem) for elem in n_classes]))"
   ]
  },
  {
   "cell_type": "markdown",
   "metadata": {
    "id": "BgcrMewi1SAY"
   },
   "source": [
    "Finally, we will allocate the constants for this implementation. metrics specifies the values our learner model will display per epoch."
   ]
  },
  {
   "cell_type": "code",
   "execution_count": null,
   "metadata": {
    "executionInfo": {
     "elapsed": 229,
     "status": "ok",
     "timestamp": 1616346977902,
     "user": {
      "displayName": "Raiid Ahmed",
      "photoUrl": "https://lh3.googleusercontent.com/a-/AOh14Ghc1u0ah_h_eo8PiPMeLeNY1h3c_FT-zYB_uRl5wIk=s64",
      "userId": "07563460154488898209"
     },
     "user_tz": 240
    },
    "id": "oQcUZT8k1SAZ"
   },
   "outputs": [],
   "source": [
    "metrics = [accuracy,error_rate]"
   ]
  },
  {
   "cell_type": "markdown",
   "metadata": {
    "id": "jHY_Fc-_1SAZ"
   },
   "source": [
    "In the next two cells, we will set up the folders needed to organize our input data. Even if the folders are already setup, the first cell must be run in order to allocate the paths used later on."
   ]
  },
  {
   "cell_type": "code",
   "execution_count": null,
   "metadata": {
    "executionInfo": {
     "elapsed": 272,
     "status": "ok",
     "timestamp": 1616347040604,
     "user": {
      "displayName": "Raiid Ahmed",
      "photoUrl": "https://lh3.googleusercontent.com/a-/AOh14Ghc1u0ah_h_eo8PiPMeLeNY1h3c_FT-zYB_uRl5wIk=s64",
      "userId": "07563460154488898209"
     },
     "user_tz": 240
    },
    "id": "o_ZKB-f-1SAZ"
   },
   "outputs": [],
   "source": [
    "AIRSAS_Classifier_Data = Path('AIRSAS_Classifier_Data_flipped')\n",
    "Test_Imagery = Path(str(AIRSAS_Classifier_Data) + '/Test_Imagery')\n",
    "Train_Imagery = Path(str(AIRSAS_Classifier_Data) + '/Train_Imagery')"
   ]
  },
  {
   "cell_type": "markdown",
   "metadata": {
    "id": "908gYy6c1SAa"
   },
   "source": [
    "This cell makes the directories if they don't exist already."
   ]
  },
  {
   "cell_type": "code",
   "execution_count": null,
   "metadata": {
    "executionInfo": {
     "elapsed": 276,
     "status": "ok",
     "timestamp": 1616347054530,
     "user": {
      "displayName": "Raiid Ahmed",
      "photoUrl": "https://lh3.googleusercontent.com/a-/AOh14Ghc1u0ah_h_eo8PiPMeLeNY1h3c_FT-zYB_uRl5wIk=s64",
      "userId": "07563460154488898209"
     },
     "user_tz": 240
    },
    "id": "1ATml2vD1SAa"
   },
   "outputs": [],
   "source": [
    "AIRSAS_Classifier_Data.mkdir(parents=True, exist_ok=True)\n",
    "Test_Imagery.mkdir(parents=True, exist_ok=True)\n",
    "Train_Imagery.mkdir(parents=True, exist_ok=True)"
   ]
  },
  {
   "cell_type": "markdown",
   "metadata": {
    "id": "33fC1GEC1SAa"
   },
   "source": [
    "We now have to allocate training data.  Zip all the test image files in a file titled \"Train_numbers.zip\".\n",
    "Run this cell to extract all the files."
   ]
  },
  {
   "cell_type": "code",
   "execution_count": null,
   "metadata": {
    "executionInfo": {
     "elapsed": 8394,
     "status": "ok",
     "timestamp": 1616347281805,
     "user": {
      "displayName": "Raiid Ahmed",
      "photoUrl": "https://lh3.googleusercontent.com/a-/AOh14Ghc1u0ah_h_eo8PiPMeLeNY1h3c_FT-zYB_uRl5wIk=s64",
      "userId": "07563460154488898209"
     },
     "user_tz": 240
    },
    "id": "1pzlRoSO1SAa"
   },
   "outputs": [],
   "source": [
    "files = zf.ZipFile(str(AIRSAS_Classifier_Data) + '/Train_Imagery/Train_numbers.zip', 'r')\n",
    "files.extractall(str(Train_Imagery))\n",
    "files.close()\n",
    "os.remove(str(Train_Imagery) + '/Train_numbers.zip')"
   ]
  },
  {
   "cell_type": "markdown",
   "metadata": {},
   "source": [
    "I realized that the Matlab script for generated image data was making images that were mirror flipped vertically. Run the next cell to fix this issue."
   ]
  },
  {
   "cell_type": "code",
   "execution_count": null,
   "metadata": {},
   "outputs": [],
   "source": [
    "os.rmdir(str(Train_Imagery) + '/.ipynb_checkpoints')\n",
    "for file in os.listdir(Train_Imagery):\n",
    "  filename = os.fsdecode(file)\n",
    "  im = Image.open(str(Train_Imagery) + '/' + filename)\n",
    "  im_flip = ImageOps.flip(im)\n",
    "  im_flip.save(str(Train_Imagery) + '/' + filename)\n",
    "  print(filename)"
   ]
  },
  {
   "cell_type": "markdown",
   "metadata": {
    "id": "UuPm1zWp1SAb"
   },
   "source": [
    "Next step is to allocate the testing data. Zip all of the output images produced by the beamformer script into an archive titled \"Test_numbers.zip\". Run this cell to extract all the files."
   ]
  },
  {
   "cell_type": "code",
   "execution_count": null,
   "metadata": {
    "id": "wFvPKlRU1SAb"
   },
   "outputs": [],
   "source": [
    "files = zf.ZipFile(str(AIRSAS_Classifier_Data) + \"/Test_Imagery/AIRSAS Scans.zip\", 'r')\n",
    "files.extractall(str(Test_Imagery))\n",
    "files.close()\n",
    "os.remove(str(Test_Imagery) + '/AIRSAS Scans.zip')"
   ]
  },
  {
   "cell_type": "markdown",
   "metadata": {},
   "source": [
    "Data Collection on the AIRSAS results in mirrored scans. Run this cell to fix that. "
   ]
  },
  {
   "cell_type": "code",
   "execution_count": null,
   "metadata": {},
   "outputs": [],
   "source": [
    "os.rmdir(str(Train_Imagery) + '/.ipynb_checkpoints')\n",
    "PFA = Path(str(Test_Imagery) + '/PFA')\n",
    "for file in os.listdir(PFA):\n",
    "  filename = os.fsdecode(file)\n",
    "  im = Image.open(str(PFA) + '/' + filename)\n",
    "  im_flip = ImageOps.mirror(im)\n",
    "  im_flip.save(str(PFA) + '/' + filename)\n",
    "  print(filename)"
   ]
  },
  {
   "cell_type": "markdown",
   "metadata": {
    "id": "0C4FTqiT1SAb"
   },
   "source": [
    "To verify that things are functioning, the next cell will choose a random image from the train set."
   ]
  },
  {
   "cell_type": "code",
   "execution_count": null,
   "metadata": {
    "colab": {
     "base_uri": "https://localhost:8080/",
     "height": 316
    },
    "executionInfo": {
     "elapsed": 413,
     "status": "error",
     "timestamp": 1616293209252,
     "user": {
      "displayName": "Raiid Ahmed",
      "photoUrl": "https://lh3.googleusercontent.com/a-/AOh14Ghc1u0ah_h_eo8PiPMeLeNY1h3c_FT-zYB_uRl5wIk=s64",
      "userId": "07563460154488898209"
     },
     "user_tz": 240
    },
    "id": "KQ9MUmqU1SAc",
    "outputId": "4a60cca5-a30f-4fdd-9c20-0b39989a40e6"
   },
   "outputs": [],
   "source": [
    "random_image = random.choice(os.listdir(str(Train_Imagery)))\n",
    "random_image_path = Path(str(Train_Imagery) + '/' + str(random_image))\n",
    "print('Random image is: ' + str(random_image))"
   ]
  },
  {
   "cell_type": "markdown",
   "metadata": {
    "id": "vS6AtNFw1SAc"
   },
   "source": [
    "The random image is displayed."
   ]
  },
  {
   "cell_type": "code",
   "execution_count": null,
   "metadata": {
    "colab": {
     "base_uri": "https://localhost:8080/",
     "height": 666
    },
    "executionInfo": {
     "elapsed": 980,
     "status": "ok",
     "timestamp": 1616291590366,
     "user": {
      "displayName": "Raiid Ahmed",
      "photoUrl": "https://lh3.googleusercontent.com/a-/AOh14Ghc1u0ah_h_eo8PiPMeLeNY1h3c_FT-zYB_uRl5wIk=s64",
      "userId": "07563460154488898209"
     },
     "user_tz": 240
    },
    "id": "wLesV9evVxAo",
    "outputId": "898f94e8-b975-4e93-8f83-0312be362966"
   },
   "outputs": [],
   "source": [
    "display(Image.open(random_image_path))"
   ]
  },
  {
   "cell_type": "markdown",
   "metadata": {
    "id": "CrWvaVKj1SAd"
   },
   "source": [
    "The individual classes or genres to be tested."
   ]
  },
  {
   "cell_type": "code",
   "execution_count": null,
   "metadata": {
    "colab": {
     "base_uri": "https://localhost:8080/"
    },
    "executionInfo": {
     "elapsed": 205,
     "status": "ok",
     "timestamp": 1616347639729,
     "user": {
      "displayName": "Raiid Ahmed",
      "photoUrl": "https://lh3.googleusercontent.com/a-/AOh14Ghc1u0ah_h_eo8PiPMeLeNY1h3c_FT-zYB_uRl5wIk=s64",
      "userId": "07563460154488898209"
     },
     "user_tz": 240
    },
    "id": "8izMMN9r1SAd",
    "outputId": "d3345dc0-80d1-4aaa-9187-b3d8e9d972d7"
   },
   "outputs": [],
   "source": [
    "classes = n_classes\n",
    "classes"
   ]
  },
  {
   "cell_type": "markdown",
   "metadata": {
    "id": "3ZHnWdRT1SAf"
   },
   "source": [
    "This cell allocates the data into a format used by the Fast.ai"
   ]
  },
  {
   "cell_type": "code",
   "execution_count": null,
   "metadata": {
    "executionInfo": {
     "elapsed": 525,
     "status": "ok",
     "timestamp": 1616347983954,
     "user": {
      "displayName": "Raiid Ahmed",
      "photoUrl": "https://lh3.googleusercontent.com/a-/AOh14Ghc1u0ah_h_eo8PiPMeLeNY1h3c_FT-zYB_uRl5wIk=s64",
      "userId": "07563460154488898209"
     },
     "user_tz": 240
    },
    "id": "UWaS64ue1SAf",
    "scrolled": false
   },
   "outputs": [],
   "source": [
    "files = get_image_files(Train_Imagery)\n",
    "def label_func(x): return x.name[6]\n",
    "\n",
    "dls = ImageDataLoaders.from_path_func(Train_Imagery, files, label_func, batch_size = 10, size = 28)"
   ]
  },
  {
   "cell_type": "markdown",
   "metadata": {
    "id": "iBxMXCI_1SAf"
   },
   "source": [
    "This cell shows an example batch of values in our dataset."
   ]
  },
  {
   "cell_type": "code",
   "execution_count": null,
   "metadata": {},
   "outputs": [],
   "source": [
    "dls.show_batch()"
   ]
  },
  {
   "cell_type": "markdown",
   "metadata": {
    "id": "FuANOXM31SAg"
   },
   "source": [
    "This cell allocates our learner model with the layers and metrics we allocated earlier."
   ]
  },
  {
   "cell_type": "code",
   "execution_count": null,
   "metadata": {
    "colab": {
     "base_uri": "https://localhost:8080/",
     "height": 83,
     "referenced_widgets": [
      "76c17d14eaf749da84824e4ea45c1242",
      "4e02574da57249eda2e48e7f3a2a9d32",
      "c557e422f4a248aeb59adc6e7da5bf85",
      "50d6110566784ba294e95f0a21f4b735",
      "a2debeb533d54bc587a2b85598e5fe42",
      "999fd445c15e46778f13e0e1b28419c1",
      "6c469fffc8ad4b59a06abed5e898500d",
      "f4a1980b139b442bb9c56371e49d7c3e"
     ]
    },
    "executionInfo": {
     "elapsed": 2288,
     "status": "ok",
     "timestamp": 1616347991019,
     "user": {
      "displayName": "Raiid Ahmed",
      "photoUrl": "https://lh3.googleusercontent.com/a-/AOh14Ghc1u0ah_h_eo8PiPMeLeNY1h3c_FT-zYB_uRl5wIk=s64",
      "userId": "07563460154488898209"
     },
     "user_tz": 240
    },
    "id": "48GVeqI11SAg",
    "outputId": "5a9de2f4-13ad-42f7-e886-35528fa997af"
   },
   "outputs": [],
   "source": [
    "learn = cnn_learner(dls, resnet34, metrics=metrics)"
   ]
  },
  {
   "cell_type": "markdown",
   "metadata": {
    "id": "UlFTYg251SAg"
   },
   "source": [
    "This cell runs the command lr_find(), which will determine some examples for a good learning rate by displaying the learning rate that yeild minimum loss or steepest descent. Either use the default of 3e-3, choose a rate between the two values displayed, or plug the two values into the mean formula below."
   ]
  },
  {
   "cell_type": "code",
   "execution_count": null,
   "metadata": {
    "colab": {
     "base_uri": "https://localhost:8080/",
     "height": 300
    },
    "executionInfo": {
     "elapsed": 627998,
     "status": "ok",
     "timestamp": 1616348620930,
     "user": {
      "displayName": "Raiid Ahmed",
      "photoUrl": "https://lh3.googleusercontent.com/a-/AOh14Ghc1u0ah_h_eo8PiPMeLeNY1h3c_FT-zYB_uRl5wIk=s64",
      "userId": "07563460154488898209"
     },
     "user_tz": 240
    },
    "id": "KL7XIb4M1SAg",
    "outputId": "f8563fcf-24c1-4f82-ff6f-816ab4f951f8"
   },
   "outputs": [],
   "source": [
    "learn.lr_find()"
   ]
  },
  {
   "cell_type": "markdown",
   "metadata": {
    "id": "S_Dvf3II1SAh"
   },
   "source": [
    "This cell finds the mean between the two learning rate values."
   ]
  },
  {
   "cell_type": "code",
   "execution_count": null,
   "metadata": {
    "executionInfo": {
     "elapsed": 195,
     "status": "ok",
     "timestamp": 1616348718224,
     "user": {
      "displayName": "Raiid Ahmed",
      "photoUrl": "https://lh3.googleusercontent.com/a-/AOh14Ghc1u0ah_h_eo8PiPMeLeNY1h3c_FT-zYB_uRl5wIk=s64",
      "userId": "07563460154488898209"
     },
     "user_tz": 240
    },
    "id": "4AZaVfIV1SAh"
   },
   "outputs": [],
   "source": [
    "lr_min=0.003981071710586548\n",
    "lr_steep=6.309573450380412e-07\n",
    "lr = (lr_min + lr_steep)/2 "
   ]
  },
  {
   "cell_type": "markdown",
   "metadata": {
    "id": "gel1NXw61SAh"
   },
   "source": [
    "This cell fits our learner to the training set for our specified number of epochs. "
   ]
  },
  {
   "cell_type": "code",
   "execution_count": null,
   "metadata": {
    "colab": {
     "base_uri": "https://localhost:8080/",
     "height": 95
    },
    "id": "7t5-f8tC1SAh",
    "outputId": "245343d4-eab2-445e-e556-a070807a3b6a",
    "scrolled": true
   },
   "outputs": [],
   "source": [
    "learn.fit_one_cycle(epochs)"
   ]
  },
  {
   "cell_type": "markdown",
   "metadata": {},
   "source": [
    "The next cells will export our model for later use. "
   ]
  },
  {
   "cell_type": "code",
   "execution_count": null,
   "metadata": {},
   "outputs": [],
   "source": [
    "learn.save('stage-' + str(epochs) + 'epochs')"
   ]
  },
  {
   "cell_type": "code",
   "execution_count": null,
   "metadata": {},
   "outputs": [],
   "source": [
    "learn.export(fname = 'model-flipped-' + str(epochs) + 'epochs')"
   ]
  },
  {
   "cell_type": "markdown",
   "metadata": {},
   "source": [
    "This is where we can load a previous model or stage if desired"
   ]
  },
  {
   "cell_type": "code",
   "execution_count": null,
   "metadata": {},
   "outputs": [],
   "source": [
    "learn.load('stage-100epochs-1')\n",
    "#learn = load_learner(str(Train_Imagery) + '/model-flipped-3-10epoch.pkl')"
   ]
  },
  {
   "cell_type": "markdown",
   "metadata": {
    "id": "FUHcRTuWgm5N"
   },
   "source": [
    "The next cell will show predicted results for our model."
   ]
  },
  {
   "cell_type": "code",
   "execution_count": null,
   "metadata": {
    "id": "JJEZlY5ugh_i"
   },
   "outputs": [],
   "source": [
    "learn.show_results()"
   ]
  },
  {
   "cell_type": "markdown",
   "metadata": {},
   "source": [
    "In order to verify performance, we will re run the predictions on our training set. "
   ]
  },
  {
   "cell_type": "code",
   "execution_count": null,
   "metadata": {},
   "outputs": [],
   "source": [
    "correct = 0\n",
    "incorrect = 0\n",
    "\n",
    "for i in range(0,len(files)):\n",
    "  if learn.predict(files[i])[0] == str(files[i])[-16]:\n",
    "    correct = correct + 1\n",
    "  else:\n",
    "    incorrect = incorrect + 1\n",
    "print(correct)\n",
    "print(incorrect)"
   ]
  },
  {
   "cell_type": "markdown",
   "metadata": {},
   "source": [
    "Next, we will plot the confusion matrix."
   ]
  },
  {
   "cell_type": "code",
   "execution_count": null,
   "metadata": {},
   "outputs": [],
   "source": [
    "interp = ClassificationInterpretation.from_learner(learn)"
   ]
  },
  {
   "cell_type": "code",
   "execution_count": null,
   "metadata": {
    "scrolled": true
   },
   "outputs": [],
   "source": [
    "interp.plot_confusion_matrix()"
   ]
  },
  {
   "cell_type": "markdown",
   "metadata": {
    "id": "m92cir5U1SAi"
   },
   "source": [
    "Finally, we will make predictions on our test data sets.\n",
    "This next cell will loop through the test set and compare the prediction scores for each number with the actual quantities of each. Finally, the accuracy will be computed."
   ]
  },
  {
   "cell_type": "code",
   "execution_count": null,
   "metadata": {
    "id": "51EogFD61SAi"
   },
   "outputs": [],
   "source": [
    "PFA = Path(str(Test_Imagery) + '/PFA')\n",
    "testfiles = get_image_files(PFA)\n",
    "\n",
    "for i in range(0,len(testfiles)):\n",
    "  number = str(testfiles[i])[-5]\n",
    "  prediction = learn.predict(testfiles[i])\n",
    "  print(number + '_' + str(prediction)[2])"
   ]
  }
 ],
 "metadata": {
  "colab": {
   "name": "AIRSAS-Image-Classifier-1000",
   "provenance": [
    {
     "file_id": "1EwYFAc9tC2L7p3iVv2I5RACrWG5OZZfB",
     "timestamp": 1613849755930
    }
   ]
  },
  "kernelspec": {
   "display_name": "Python 3",
   "language": "python",
   "name": "python3"
  },
  "language_info": {
   "codemirror_mode": {
    "name": "ipython",
    "version": 3
   },
   "file_extension": ".py",
   "mimetype": "text/x-python",
   "name": "python",
   "nbconvert_exporter": "python",
   "pygments_lexer": "ipython3",
   "version": "3.8.5"
  },
  "widgets": {
   "application/vnd.jupyter.widget-state+json": {
    "4e02574da57249eda2e48e7f3a2a9d32": {
     "model_module": "@jupyter-widgets/base",
     "model_name": "LayoutModel",
     "state": {
      "_model_module": "@jupyter-widgets/base",
      "_model_module_version": "1.2.0",
      "_model_name": "LayoutModel",
      "_view_count": null,
      "_view_module": "@jupyter-widgets/base",
      "_view_module_version": "1.2.0",
      "_view_name": "LayoutView",
      "align_content": null,
      "align_items": null,
      "align_self": null,
      "border": null,
      "bottom": null,
      "display": null,
      "flex": null,
      "flex_flow": null,
      "grid_area": null,
      "grid_auto_columns": null,
      "grid_auto_flow": null,
      "grid_auto_rows": null,
      "grid_column": null,
      "grid_gap": null,
      "grid_row": null,
      "grid_template_areas": null,
      "grid_template_columns": null,
      "grid_template_rows": null,
      "height": null,
      "justify_content": null,
      "justify_items": null,
      "left": null,
      "margin": null,
      "max_height": null,
      "max_width": null,
      "min_height": null,
      "min_width": null,
      "object_fit": null,
      "object_position": null,
      "order": null,
      "overflow": null,
      "overflow_x": null,
      "overflow_y": null,
      "padding": null,
      "right": null,
      "top": null,
      "visibility": null,
      "width": null
     }
    },
    "50d6110566784ba294e95f0a21f4b735": {
     "model_module": "@jupyter-widgets/controls",
     "model_name": "HTMLModel",
     "state": {
      "_dom_classes": [],
      "_model_module": "@jupyter-widgets/controls",
      "_model_module_version": "1.5.0",
      "_model_name": "HTMLModel",
      "_view_count": null,
      "_view_module": "@jupyter-widgets/controls",
      "_view_module_version": "1.5.0",
      "_view_name": "HTMLView",
      "description": "",
      "description_tooltip": null,
      "layout": "IPY_MODEL_f4a1980b139b442bb9c56371e49d7c3e",
      "placeholder": "​",
      "style": "IPY_MODEL_6c469fffc8ad4b59a06abed5e898500d",
      "value": " 83.3M/83.3M [07:11&lt;00:00, 202kB/s]"
     }
    },
    "6c469fffc8ad4b59a06abed5e898500d": {
     "model_module": "@jupyter-widgets/controls",
     "model_name": "DescriptionStyleModel",
     "state": {
      "_model_module": "@jupyter-widgets/controls",
      "_model_module_version": "1.5.0",
      "_model_name": "DescriptionStyleModel",
      "_view_count": null,
      "_view_module": "@jupyter-widgets/base",
      "_view_module_version": "1.2.0",
      "_view_name": "StyleView",
      "description_width": ""
     }
    },
    "76c17d14eaf749da84824e4ea45c1242": {
     "model_module": "@jupyter-widgets/controls",
     "model_name": "HBoxModel",
     "state": {
      "_dom_classes": [],
      "_model_module": "@jupyter-widgets/controls",
      "_model_module_version": "1.5.0",
      "_model_name": "HBoxModel",
      "_view_count": null,
      "_view_module": "@jupyter-widgets/controls",
      "_view_module_version": "1.5.0",
      "_view_name": "HBoxView",
      "box_style": "",
      "children": [
       "IPY_MODEL_c557e422f4a248aeb59adc6e7da5bf85",
       "IPY_MODEL_50d6110566784ba294e95f0a21f4b735"
      ],
      "layout": "IPY_MODEL_4e02574da57249eda2e48e7f3a2a9d32"
     }
    },
    "999fd445c15e46778f13e0e1b28419c1": {
     "model_module": "@jupyter-widgets/base",
     "model_name": "LayoutModel",
     "state": {
      "_model_module": "@jupyter-widgets/base",
      "_model_module_version": "1.2.0",
      "_model_name": "LayoutModel",
      "_view_count": null,
      "_view_module": "@jupyter-widgets/base",
      "_view_module_version": "1.2.0",
      "_view_name": "LayoutView",
      "align_content": null,
      "align_items": null,
      "align_self": null,
      "border": null,
      "bottom": null,
      "display": null,
      "flex": null,
      "flex_flow": null,
      "grid_area": null,
      "grid_auto_columns": null,
      "grid_auto_flow": null,
      "grid_auto_rows": null,
      "grid_column": null,
      "grid_gap": null,
      "grid_row": null,
      "grid_template_areas": null,
      "grid_template_columns": null,
      "grid_template_rows": null,
      "height": null,
      "justify_content": null,
      "justify_items": null,
      "left": null,
      "margin": null,
      "max_height": null,
      "max_width": null,
      "min_height": null,
      "min_width": null,
      "object_fit": null,
      "object_position": null,
      "order": null,
      "overflow": null,
      "overflow_x": null,
      "overflow_y": null,
      "padding": null,
      "right": null,
      "top": null,
      "visibility": null,
      "width": null
     }
    },
    "a2debeb533d54bc587a2b85598e5fe42": {
     "model_module": "@jupyter-widgets/controls",
     "model_name": "ProgressStyleModel",
     "state": {
      "_model_module": "@jupyter-widgets/controls",
      "_model_module_version": "1.5.0",
      "_model_name": "ProgressStyleModel",
      "_view_count": null,
      "_view_module": "@jupyter-widgets/base",
      "_view_module_version": "1.2.0",
      "_view_name": "StyleView",
      "bar_color": null,
      "description_width": "initial"
     }
    },
    "c557e422f4a248aeb59adc6e7da5bf85": {
     "model_module": "@jupyter-widgets/controls",
     "model_name": "FloatProgressModel",
     "state": {
      "_dom_classes": [],
      "_model_module": "@jupyter-widgets/controls",
      "_model_module_version": "1.5.0",
      "_model_name": "FloatProgressModel",
      "_view_count": null,
      "_view_module": "@jupyter-widgets/controls",
      "_view_module_version": "1.5.0",
      "_view_name": "ProgressView",
      "bar_style": "success",
      "description": "100%",
      "description_tooltip": null,
      "layout": "IPY_MODEL_999fd445c15e46778f13e0e1b28419c1",
      "max": 87306240,
      "min": 0,
      "orientation": "horizontal",
      "style": "IPY_MODEL_a2debeb533d54bc587a2b85598e5fe42",
      "value": 87306240
     }
    },
    "f4a1980b139b442bb9c56371e49d7c3e": {
     "model_module": "@jupyter-widgets/base",
     "model_name": "LayoutModel",
     "state": {
      "_model_module": "@jupyter-widgets/base",
      "_model_module_version": "1.2.0",
      "_model_name": "LayoutModel",
      "_view_count": null,
      "_view_module": "@jupyter-widgets/base",
      "_view_module_version": "1.2.0",
      "_view_name": "LayoutView",
      "align_content": null,
      "align_items": null,
      "align_self": null,
      "border": null,
      "bottom": null,
      "display": null,
      "flex": null,
      "flex_flow": null,
      "grid_area": null,
      "grid_auto_columns": null,
      "grid_auto_flow": null,
      "grid_auto_rows": null,
      "grid_column": null,
      "grid_gap": null,
      "grid_row": null,
      "grid_template_areas": null,
      "grid_template_columns": null,
      "grid_template_rows": null,
      "height": null,
      "justify_content": null,
      "justify_items": null,
      "left": null,
      "margin": null,
      "max_height": null,
      "max_width": null,
      "min_height": null,
      "min_width": null,
      "object_fit": null,
      "object_position": null,
      "order": null,
      "overflow": null,
      "overflow_x": null,
      "overflow_y": null,
      "padding": null,
      "right": null,
      "top": null,
      "visibility": null,
      "width": null
     }
    }
   }
  }
 },
 "nbformat": 4,
 "nbformat_minor": 1
}
